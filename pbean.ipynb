{
 "cells": [
  {
   "cell_type": "code",
   "execution_count": 1,
   "metadata": {
    "collapsed": true,
    "deletable": true,
    "editable": true
   },
   "outputs": [],
   "source": [
    "import numpy as np\n",
    "import pandas as pd\n",
    "import scipy.optimize as optim"
   ]
  },
  {
   "cell_type": "code",
   "execution_count": 2,
   "metadata": {
    "collapsed": true
   },
   "outputs": [],
   "source": [
    "#!curl https://www.ars.usda.gov/ARSUserFiles/80400525/Data/SR/SR28/dnload/sr28asc.zip -o ndb.zip && unzip ndb.zip -d ndb"
   ]
  },
  {
   "cell_type": "code",
   "execution_count": 3,
   "metadata": {
    "collapsed": false,
    "deletable": true,
    "editable": true
   },
   "outputs": [],
   "source": [
    "def read_ndb_file(name):\n",
    "    return pd.read_csv(f'ndb/{name}.txt',\n",
    "                       encoding='latin1', delimiter='^', quotechar='~',\n",
    "                       header=None, low_memory=False)\n",
    "\n",
    "food_des = read_ndb_file('FOOD_DES')\n",
    "\n",
    "ndb_name2num = {r[2]: r[0] for i, r in food_des.iterrows()}\n",
    "ndb_num2name = {num: name for name, num in ndb_name2num.items()}\n",
    "\n",
    "nutr_defs = read_ndb_file('NUTR_DEF')[[0, 3]]\n",
    "nutr_defs.columns = ['nutr_no', 'nutrient_name']\n",
    "nutr_defs.loc[nutr_defs.nutr_no == 268, 'nutrient_name'] = 'Energy (kJ)'\n",
    "\n",
    "nutr_data = read_ndb_file('NUT_DATA')[[0, 1, 2]]\n",
    "nutr_data.columns = ['ndb_no', 'nutr_no', 'amount_100g']\n",
    "\n",
    "ingr_stats = nutr_data.pivot(index='ndb_no', columns='nutr_no', values='amount_100g')\n",
    "assert (ingr_stats.columns == nutr_defs.nutr_no).all()\n",
    "ingr_stats.columns = nutr_defs.nutrient_name\n",
    "ingr_stats.index = [ndb_num2name[num] for num in ingr_stats.index]\n",
    "ingr_stats.index.name = 'food_name'\n",
    "ingr_stats.fillna(0, inplace=True)\n",
    "\n",
    "ingr_stats /= 100"
   ]
  },
  {
   "cell_type": "code",
   "execution_count": 4,
   "metadata": {
    "collapsed": false,
    "deletable": true,
    "editable": true
   },
   "outputs": [],
   "source": [
    "ingredients = [\n",
    "    'Soybeans, mature seeds, raw',\n",
    "    'Peanut butter, chunk style, without salt',\n",
    "    'Cocoa, dry powder, unsweetened, processed with alkali',\n",
    "    'Seeds, chia seeds, dried',\n",
    "]\n",
    "LB_G = 453.5924\n",
    "cost = np.array([\n",
    "    1.19,\n",
    "    3.00,\n",
    "    5.99,\n",
    "    4.00,\n",
    "]) / LB_G\n",
    "\n",
    "pbean_ingr_stats = ingr_stats.loc[ingredients]\n",
    "\n",
    "energy = pbean_ingr_stats['Energy'].as_matrix()\n",
    "protein = pbean_ingr_stats['Protein'].as_matrix()\n",
    "fat = pbean_ingr_stats['Total lipid (fat)'].as_matrix()\n",
    "w3 = pbean_ingr_stats['18:3 undifferentiated'].as_matrix()\n",
    "w6 = pbean_ingr_stats['18:2 undifferentiated'].as_matrix()\n",
    "fiber = pbean_ingr_stats['Fiber, total dietary'].as_matrix()\n",
    "beans, pb, cocoa, chia = np.eye(4)"
   ]
  },
  {
   "cell_type": "code",
   "execution_count": 5,
   "metadata": {
    "collapsed": false,
    "deletable": true,
    "editable": true
   },
   "outputs": [],
   "source": [
    "def optimize_pbean(optimize='fat'):\n",
    "    cals_per_serving = 400\n",
    "    opts = [\n",
    "        (protein, 'ge', 20),   # require at least 20 g protein\n",
    "        (w6 - 4*w3, 'le', 0),  # 4:1 omega6 to omega3\n",
    "        (beans, 'le', 45),     # prevent too much fiber\n",
    "        (beans, 'ge', 30),     # prevent peanut butter water\n",
    "        (chia, 'le', 8)        # prevent chia soup\n",
    "    ]\n",
    "    \n",
    "    cost_opt = (cost, 'le', 0.538)  # only somewhat arbitrary\n",
    "    fat_opt = (fat, 'ge', 22)\n",
    "    \n",
    "    if optimize == 'fat':\n",
    "        c = -fat\n",
    "        opts.extend([\n",
    "           cost_opt,\n",
    "        ])\n",
    "    elif optimize == 'cost':\n",
    "        c = cost\n",
    "        opts.extend([\n",
    "            fat_opt,\n",
    "        ])\n",
    "    if optimize == 'cocoa':\n",
    "        c = -cocoa\n",
    "        opts.extend([\n",
    "            cost_opt,\n",
    "            fat_opt,\n",
    "        ])\n",
    "    minmax, constraints = [], []\n",
    "    for tgt, ineq, constraint in opts:\n",
    "        way = 1 - 2*(ineq == 'ge')\n",
    "        minmax.append(way * tgt)\n",
    "        constraints.append(way * constraint)\n",
    "        \n",
    "    A_ub = np.vstack(minmax)\n",
    "    b_ub = np.vstack(constraints)\n",
    "            \n",
    "    A_eq = energy.reshape(1, -1)\n",
    "    b_eq = np.array([cals_per_serving]).reshape(1, -1)\n",
    "    \n",
    "    soln = optim.linprog(c, A_ub, b_ub, A_eq, b_eq).x\n",
    "    print_soln(optimize, soln)\n",
    "    return soln\n",
    "\n",
    "\n",
    "def print_soln(optimize, soln):\n",
    "    print(f'Optimizing {optimize}:')\n",
    "    print(soln)\n",
    "    print('cost', soln.dot(cost))\n",
    "    print('fat', soln.dot(fat))\n",
    "    print('protein', soln.dot(protein))\n",
    "    print('fiber', soln.dot(fiber))"
   ]
  },
  {
   "cell_type": "code",
   "execution_count": 6,
   "metadata": {
    "collapsed": false,
    "deletable": true,
    "editable": true
   },
   "outputs": [
    {
     "name": "stdout",
     "output_type": "stream",
     "text": [
      "Optimizing fat:\n",
      "[ 41.86312022  23.98250005  15.06979933   8.        ]\n",
      "cost 0.538\n",
      "fat 24.7577104088\n",
      "protein 25.0968757591\n",
      "fiber 13.0546703849\n"
     ]
    }
   ],
   "source": [
    "soln_fat = optimize_pbean('fat')\n",
    "\n",
    "# soln_cost = optimize_pbean('cost')\n",
    "# print_soln(soln_cost)\n",
    "\n",
    "# soln_cocoa = optimize_pbean('cocoa')\n",
    "# print_soln(soln_cocoa)"
   ]
  },
  {
   "cell_type": "code",
   "execution_count": 7,
   "metadata": {
    "collapsed": false,
    "deletable": true,
    "editable": true,
    "scrolled": true
   },
   "outputs": [
    {
     "name": "stdout",
     "output_type": "stream",
     "text": [
      "nutrient_name\n",
      "Protein                                 8.365625\n",
      "Total lipid (fat)                       8.252570\n",
      "Carbohydrate, by difference             9.984745\n",
      "Ash                                     1.462401\n",
      "Energy                                133.333333\n",
      "Starch                                  0.394112\n",
      "Sucrose                                 0.334956\n",
      "Glucose (dextrose)                      0.337354\n",
      "Water                                   1.573132\n",
      "Caffeine                                3.918148\n",
      "Theobromine                           132.312838\n",
      "Energy (kJ)                           557.919391\n",
      "Sugars, total                           1.783574\n",
      "Fiber, total dietary                    4.351557\n",
      "Calcium, Ca                            64.653482\n",
      "Iron, Fe                                3.328203\n",
      "Magnesium, Mg                          84.706994\n",
      "Phosphorus, P                         183.242894\n",
      "Potassium, K                          447.203720\n",
      "Sodium, Na                              3.019183\n",
      "Zinc, Zn                                1.347522\n",
      "Copper, Cu                              0.483399\n",
      "Fluoride, F                             0.247819\n",
      "Manganese, Mn                           0.755459\n",
      "Selenium, Se                            5.274471\n",
      "Vitamin A, IU                           4.509962\n",
      "Vitamin A, RAE                          0.139544\n",
      "Carotene, beta                          1.814069\n",
      "Vitamin E (alpha-tocopherol)            0.640601\n",
      "Lutein + zeaxanthin                     1.908841\n",
      "Tocopherol, beta                        0.017587\n",
      "Tocopherol, gamma                       0.637935\n",
      "Tocopherol, delta                       0.058357\n",
      "Vitamin C, total ascorbic acid          0.879929\n",
      "Thiamin                                 0.152494\n",
      "Riboflavin                              0.157917\n",
      "Niacin                                  1.677386\n",
      "Pantothenic acid                        0.212792\n",
      "Vitamin B-6                             0.091951\n",
      "Folate, total                          62.597646\n",
      "Choline, total                         21.646195\n",
      "Dihydrophylloquinone                    0.039971\n",
      "Vitamin K (phylloquinone)               6.719085\n",
      "Folate, food                           62.597646\n",
      "Folate, DFE                            61.290979\n",
      "Betaine                                 0.372984\n",
      "Tryptophan                              0.125937\n",
      "Threonine                               0.342717\n",
      "Isoleucine                              0.380218\n",
      "Leucine                                 0.675326\n",
      "Lysine                                  0.502674\n",
      "Methionine                              0.122349\n",
      "Cystine                                 0.131423\n",
      "Phenylalanine                           0.461588\n",
      "Tyrosine                                0.329221\n",
      "Valine                                  0.424735\n",
      "Arginine                                0.766937\n",
      "Histidine                               0.226880\n",
      "Alanine                                 0.409148\n",
      "Aspartic acid                           1.089691\n",
      "Glutamic acid                           1.730281\n",
      "Glycine                                 0.441555\n",
      "Proline                                 0.502537\n",
      "Serine                                  0.512904\n",
      "Hydroxyproline                          0.003198\n",
      "Fatty acids, total trans                0.003733\n",
      "Fatty acids, total saturated            1.489166\n",
      "12:0                                    0.014230\n",
      "14:0                                    0.013477\n",
      "16:0                                    1.015754\n",
      "18:0                                    0.383145\n",
      "20:0                                    0.053643\n",
      "18:1 undifferentiated                   2.671341\n",
      "18:2 undifferentiated                   2.669181\n",
      "18:3 undifferentiated                   0.667295\n",
      "22:0                                    0.000853\n",
      "14:1                                    0.000800\n",
      "16:1 undifferentiated                   0.008448\n",
      "20:1                                    0.064381\n",
      "Phytosterols                           22.466541\n",
      "Stigmasterol                            0.879358\n",
      "Campesterol                             1.199125\n",
      "Beta-sitosterol                         6.155508\n",
      "Fatty acids, total monounsaturated      2.745136\n",
      "Fatty acids, total polyunsaturated      3.336476\n",
      "15:0                                    0.000800\n",
      "17:0                                    0.001680\n",
      "18:2 n-6 c,c                            0.155600\n",
      "18:3 n-3 c,c,c (ALA)                    0.475467\n",
      "dtype: float64\n"
     ]
    }
   ],
   "source": [
    "per_pbean = pbean_ingr_stats.T.dot(soln_fat)\n",
    "with pd.option_context('display.max_rows', None):\n",
    "    print(per_pbean[per_pbean != 0] / 3)"
   ]
  },
  {
   "cell_type": "markdown",
   "metadata": {},
   "source": [
    "## What other nutrients are needed?"
   ]
  },
  {
   "cell_type": "code",
   "execution_count": 8,
   "metadata": {
    "collapsed": false,
    "deletable": true,
    "editable": true
   },
   "outputs": [
    {
     "data": {
      "text/plain": [
       "Calcium, Ca                       418.118664\n",
       "Energy                            800.000000\n",
       "Niacin                              0.903530\n",
       "Pantothenic acid                    3.084871\n",
       "Vitamin A, RAE                    398.744106\n",
       "Vitamin B-6                         0.272440\n",
       "Vitamin C, total ascorbic acid     82.080638\n",
       "Vitamin E (alpha-tocopherol)        9.234589\n",
       "Vitamin K (phylloquinone)          59.528237\n",
       "dtype: float64"
      ]
     },
     "execution_count": 8,
     "metadata": {},
     "output_type": "execute_result"
    }
   ],
   "source": [
    "PBEANS_PER_DAY = 3\n",
    "\n",
    "rda = pd.Series({\n",
    "    'Energy': 2000,\n",
    "    'Calcium, Ca': 1000,\n",
    "    'Folate, total': 400,\n",
    "    'Magnesium, Mg': 400,\n",
    "    'Niacin': 16,\n",
    "    'Pantothenic acid': 5,\n",
    "    'Potassium, K': 4000,\n",
    "    'Riboflavin': 1.3,\n",
    "    'Thiamin': 1.2,\n",
    "    'Vitamin A, RAE': 400,\n",
    "    'Vitamin B-6': 1.1,\n",
    "    'Vitamin C, total ascorbic acid': 90,\n",
    "    'Vitamin E (alpha-tocopherol)': 15,\n",
    "    'Vitamin K (phylloquinone)': 120,\n",
    "    'Zinc, Zn': 11,\n",
    "})\n",
    "\n",
    "pbean = PBEANS_PER_DAY * per_pbean\n",
    "need_rda = rda - pbean[rda.index]\n",
    "need_rda[need_rda > 0]"
   ]
  },
  {
   "cell_type": "code",
   "execution_count": null,
   "metadata": {
    "collapsed": true
   },
   "outputs": [],
   "source": []
  }
 ],
 "metadata": {
  "kernelspec": {
   "display_name": "Python 3",
   "language": "python",
   "name": "python3"
  },
  "language_info": {
   "codemirror_mode": {
    "name": "ipython",
    "version": 3
   },
   "file_extension": ".py",
   "mimetype": "text/x-python",
   "name": "python",
   "nbconvert_exporter": "python",
   "pygments_lexer": "ipython3",
   "version": "3.6.1"
  }
 },
 "nbformat": 4,
 "nbformat_minor": 2
}
